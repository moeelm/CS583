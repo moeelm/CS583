{
 "cells": [
  {
   "cell_type": "markdown",
   "metadata": {
    "id": "v7lCJ4GlcBBR"
   },
   "source": [
    "# Home 4: Build a CNN for image recognition.\n",
    "\n",
    "### Name: Mohammed Elmzaghi"
   ]
  },
  {
   "cell_type": "markdown",
   "metadata": {
    "id": "afA8hjnGcBBh"
   },
   "source": [
    "## 0. You will do the following:\n",
    "\n",
    "1. Read, complete, and run the code.\n",
    "\n",
    "2. **Make substantial improvements** to maximize the accurcy.\n",
    "    \n",
    "3. Convert the .IPYNB file to .HTML file.\n",
    "\n",
    "    * The HTML file must contain the code and the output after execution.\n",
    "    \n",
    "    * Missing **the output after execution** will not be graded.\n",
    "    \n",
    "4. Upload this .HTML file to your Google Drive, Dropbox, or Github repo. (If you submit the file to Google Drive or Dropbox, you must make the file \"open-access\". The delay caused by \"deny of access\" may result in late penalty.)\n",
    "\n",
    "4. Submit the link to this .HTML file to Canvas.\n",
    "\n",
    "    * Example: https://github.com/wangshusen/CS583-2020S/blob/master/homework/HM4/HM4.html\n",
    "\n",
    "\n",
    "## Requirements:\n",
    "\n",
    "1. You can use whatever CNN architecture, including VGG, Inception, and ResNet. However, you must build the networks layer by layer. You must NOT import the archetectures from ```keras.applications```.\n",
    "\n",
    "2. Make sure ```BatchNormalization``` is between a ```Conv```/```Dense``` layer and an ```activation``` layer.\n",
    "\n",
    "3. If you want to regularize a ```Conv```/```Dense``` layer, you should place a ```Dropout``` layer **before** the ```Conv```/```Dense``` layer.\n",
    "\n",
    "4. An accuracy above 70% is considered reasonable. An accuracy above 80% is considered good. Without data augmentation, achieving 80% accuracy is difficult.\n",
    "\n",
    "\n",
    "## Google Colab\n",
    "\n",
    "- If you do not have GPU, the training of a CNN can be slow. Google Colab is a good option.\n",
    "\n",
    "- Keep in mind that you must download it as an IPYNB file and then use IPython Notebook to convert it to HTML.\n",
    "\n",
    "- Also keep in mind that the IPYNB and HTML files must contain the outputs. (Otherwise, the instructor will not be able to know the correctness and performance.) Do the followings to keep the outputs.\n",
    "\n",
    "- In Colab, go to ```Runtime``` --> ```Change runtime type``` --> Do NOT check ```Omit code cell output when saving this notebook```. In this way, the downloaded IPYNB file contains the outputs."
   ]
  },
  {
   "cell_type": "markdown",
   "metadata": {
    "id": "iSBeWUvWcBBk"
   },
   "source": [
    "## 1. Data preparation"
   ]
  },
  {
   "cell_type": "markdown",
   "metadata": {
    "id": "NKeKqlHacBBn"
   },
   "source": [
    "### 1.1. Load data\n"
   ]
  },
  {
   "cell_type": "code",
   "execution_count": 40,
   "metadata": {
    "colab": {
     "base_uri": "https://localhost:8080/"
    },
    "id": "3KzACzSscBBq",
    "outputId": "68943386-0a03-4ead-a6ad-2f61881efa19"
   },
   "outputs": [
    {
     "name": "stdout",
     "output_type": "stream",
     "text": [
      "shape of x_train: (50000, 32, 32, 3)\n",
      "shape of y_train: (50000, 1)\n",
      "shape of x_test: (10000, 32, 32, 3)\n",
      "shape of y_test: (10000, 1)\n",
      "number of classes: 10\n"
     ]
    }
   ],
   "source": [
    "from keras.datasets import cifar10\n",
    "import numpy\n",
    "\n",
    "(x_train, y_train), (x_test, y_test) = cifar10.load_data()\n",
    "\n",
    "print('shape of x_train: ' + str(x_train.shape))\n",
    "print('shape of y_train: ' + str(y_train.shape))\n",
    "print('shape of x_test: ' + str(x_test.shape))\n",
    "print('shape of y_test: ' + str(y_test.shape))\n",
    "print('number of classes: ' + str(numpy.max(y_train) - numpy.min(y_train) + 1))"
   ]
  },
  {
   "cell_type": "markdown",
   "metadata": {
    "id": "YqOuGg3RcBBr"
   },
   "source": [
    "### 1.2. One-hot encode the labels\n",
    "\n",
    "In the input, a label is a scalar in $\\{0, 1, \\cdots , 9\\}$. One-hot encode transform such a scalar to a $10$-dim vector. E.g., a scalar ```y_train[j]=3``` is transformed to the vector ```y_train_vec[j]=[0, 0, 0, 1, 0, 0, 0, 0, 0, 0]```.\n",
    "\n",
    "1. Define a function ```to_one_hot``` that transforms an $n\\times 1$ array to a $n\\times 10$ matrix.\n",
    "\n",
    "2. Apply the function to ```y_train``` and ```y_test```."
   ]
  },
  {
   "cell_type": "code",
   "execution_count": 41,
   "metadata": {
    "colab": {
     "base_uri": "https://localhost:8080/"
    },
    "id": "Xt8g5I6pcBBx",
    "outputId": "74396621-72d4-40f0-b0ef-f42405b0ea8d"
   },
   "outputs": [
    {
     "name": "stdout",
     "output_type": "stream",
     "text": [
      "Shape of y_train_vec: (50000, 10)\n",
      "Shape of y_test_vec: (10000, 10)\n",
      "[6]\n",
      "[0. 0. 0. 0. 0. 0. 1. 0. 0. 0.]\n"
     ]
    }
   ],
   "source": [
    "def to_one_hot(y, num_class=10):\n",
    "    results = numpy.zeros((len(y), num_class))\n",
    "    for i, label in enumerate(y):\n",
    "      results[i, label] = 1\n",
    "    return results\n",
    "\n",
    "y_train_vec = to_one_hot(y_train)\n",
    "y_test_vec = to_one_hot(y_test)\n",
    "\n",
    "print('Shape of y_train_vec: ' + str(y_train_vec.shape))\n",
    "print('Shape of y_test_vec: ' + str(y_test_vec.shape))\n",
    "\n",
    "print(y_train[0])\n",
    "print(y_train_vec[0])"
   ]
  },
  {
   "cell_type": "markdown",
   "metadata": {
    "id": "YXhYiJSRcBBy"
   },
   "source": [
    "#### Remark: the outputs should be\n",
    "* Shape of y_train_vec: (50000, 10)\n",
    "* Shape of y_test_vec: (10000, 10)\n",
    "* [6]\n",
    "* [0. 0. 0. 0. 0. 0. 1. 0. 0. 0.]"
   ]
  },
  {
   "cell_type": "markdown",
   "metadata": {
    "id": "ieJornNfcBB0"
   },
   "source": [
    "### 1.3. Randomly partition the training set to training and validation sets\n",
    "\n",
    "Randomly partition the 50K training samples to 2 sets:\n",
    "* a training set containing 40K samples\n",
    "* a validation set containing 10K samples\n"
   ]
  },
  {
   "cell_type": "code",
   "execution_count": 42,
   "metadata": {
    "colab": {
     "base_uri": "https://localhost:8080/"
    },
    "id": "jbRVrJTRcBB2",
    "outputId": "642cde72-cebc-44f2-ecbe-ddbbb46c8cc0"
   },
   "outputs": [
    {
     "name": "stdout",
     "output_type": "stream",
     "text": [
      "Shape of x_tr: (40000, 32, 32, 3)\n",
      "Shape of y_tr: (40000, 10)\n",
      "Shape of x_val: (10000, 32, 32, 3)\n",
      "Shape of y_val: (10000, 10)\n"
     ]
    }
   ],
   "source": [
    "rand_indices = numpy.random.permutation(50000)\n",
    "train_indices = rand_indices[0:40000] #40K samples for training set\n",
    "valid_indices = rand_indices[40000:50000] #10K samples for validation set\n",
    "\n",
    "x_val = x_train[valid_indices, :]\n",
    "y_val = y_train_vec[valid_indices, :]\n",
    "\n",
    "x_tr = x_train[train_indices, :]\n",
    "y_tr = y_train_vec[train_indices, :]\n",
    "\n",
    "print('Shape of x_tr: ' + str(x_tr.shape))\n",
    "print('Shape of y_tr: ' + str(y_tr.shape))\n",
    "print('Shape of x_val: ' + str(x_val.shape))\n",
    "print('Shape of y_val: ' + str(y_val.shape))"
   ]
  },
  {
   "cell_type": "markdown",
   "metadata": {
    "id": "5ldIsgWEcBB5"
   },
   "source": [
    "## 2. Build a CNN and tune its hyper-parameters\n",
    "\n",
    "1. Build a convolutional neural network model\n",
    "2. Use the validation data to tune the hyper-parameters (e.g., network structure, and optimization algorithm)\n",
    "    * Do NOT use test data for hyper-parameter tuning!!!\n",
    "3. Try to achieve a validation accuracy as high as possible."
   ]
  },
  {
   "cell_type": "markdown",
   "metadata": {
    "id": "shaqSRj_cBB_"
   },
   "source": [
    "### Remark: \n",
    "\n",
    "The following CNN is just an example. You are supposed to make **substantial improvements** such as:\n",
    "* Add more layers.\n",
    "* Use regularizations, e.g., dropout.\n",
    "* Use batch normalization."
   ]
  },
  {
   "cell_type": "code",
   "execution_count": 71,
   "metadata": {
    "colab": {
     "base_uri": "https://localhost:8080/"
    },
    "id": "paditI9NcBCA",
    "outputId": "c07f46aa-031d-4469-80a3-973a2f579e7d"
   },
   "outputs": [
    {
     "name": "stdout",
     "output_type": "stream",
     "text": [
      "Model: \"sequential_15\"\n",
      "_________________________________________________________________\n",
      "Layer (type)                 Output Shape              Param #   \n",
      "=================================================================\n",
      "conv2d_73 (Conv2D)           (None, 32, 32, 32)        896       \n",
      "_________________________________________________________________\n",
      "batch_normalization_82 (Batc (None, 32, 32, 32)        128       \n",
      "_________________________________________________________________\n",
      "conv2d_74 (Conv2D)           (None, 32, 32, 32)        9248      \n",
      "_________________________________________________________________\n",
      "batch_normalization_83 (Batc (None, 32, 32, 32)        128       \n",
      "_________________________________________________________________\n",
      "max_pooling2d_42 (MaxPooling (None, 16, 16, 32)        0         \n",
      "_________________________________________________________________\n",
      "dropout_41 (Dropout)         (None, 16, 16, 32)        0         \n",
      "_________________________________________________________________\n",
      "conv2d_75 (Conv2D)           (None, 16, 16, 64)        18496     \n",
      "_________________________________________________________________\n",
      "batch_normalization_84 (Batc (None, 16, 16, 64)        256       \n",
      "_________________________________________________________________\n",
      "conv2d_76 (Conv2D)           (None, 16, 16, 64)        36928     \n",
      "_________________________________________________________________\n",
      "batch_normalization_85 (Batc (None, 16, 16, 64)        256       \n",
      "_________________________________________________________________\n",
      "max_pooling2d_43 (MaxPooling (None, 8, 8, 64)          0         \n",
      "_________________________________________________________________\n",
      "dropout_42 (Dropout)         (None, 8, 8, 64)          0         \n",
      "_________________________________________________________________\n",
      "conv2d_77 (Conv2D)           (None, 8, 8, 128)         73856     \n",
      "_________________________________________________________________\n",
      "batch_normalization_86 (Batc (None, 8, 8, 128)         512       \n",
      "_________________________________________________________________\n",
      "conv2d_78 (Conv2D)           (None, 8, 8, 128)         147584    \n",
      "_________________________________________________________________\n",
      "batch_normalization_87 (Batc (None, 8, 8, 128)         512       \n",
      "_________________________________________________________________\n",
      "max_pooling2d_44 (MaxPooling (None, 4, 4, 128)         0         \n",
      "_________________________________________________________________\n",
      "dropout_43 (Dropout)         (None, 4, 4, 128)         0         \n",
      "_________________________________________________________________\n",
      "flatten_13 (Flatten)         (None, 2048)              0         \n",
      "_________________________________________________________________\n",
      "batch_normalization_88 (Batc (None, 2048)              8192      \n",
      "_________________________________________________________________\n",
      "dense_13 (Dense)             (None, 10)                20490     \n",
      "=================================================================\n",
      "Total params: 317,482\n",
      "Trainable params: 312,490\n",
      "Non-trainable params: 4,992\n",
      "_________________________________________________________________\n"
     ]
    }
   ],
   "source": [
    "from keras.layers import Conv2D, MaxPooling2D, Flatten, Dense, BatchNormalization, Activation, Dropout\n",
    "from keras.models import Sequential\n",
    "from keras.preprocessing.image import ImageDataGenerator\n",
    "from keras import regularizers\n",
    "\n",
    "weight_decay = 1e-6\n",
    "model = Sequential()\n",
    "model.add(Conv2D(32, (3, 3), activation = 'relu', padding = 'same', kernel_regularizer=regularizers.l2(weight_decay), input_shape=(32, 32, 3)))\n",
    "model.add(BatchNormalization())\n",
    "model.add(Conv2D(32, (3, 3), activation = 'relu', padding = 'same', kernel_regularizer=regularizers.l2(weight_decay), input_shape=(32, 32, 3)))\n",
    "model.add(BatchNormalization())\n",
    "model.add(MaxPooling2D((2, 2)))\n",
    "model.add(Dropout(0.2))\n",
    "\n",
    "model.add(Conv2D(64, (3, 3), activation = 'relu', padding = 'same', kernel_regularizer=regularizers.l2(weight_decay)))\n",
    "model.add(BatchNormalization())\n",
    "model.add(Conv2D(64, (3, 3), activation = 'relu', padding = 'same', kernel_regularizer=regularizers.l2(weight_decay)))\n",
    "model.add(BatchNormalization())\n",
    "model.add(MaxPooling2D((2, 2)))\n",
    "model.add(Dropout(0.3))\n",
    "\n",
    "model.add(Conv2D(128, (3,3), activation = 'tanh', padding='same', kernel_regularizer=regularizers.l2(weight_decay)))\n",
    "model.add(BatchNormalization())\n",
    "model.add(Conv2D(128, (3,3), activation = 'tanh', padding='same', kernel_regularizer=regularizers.l2(weight_decay)))\n",
    "model.add(BatchNormalization())\n",
    "model.add(MaxPooling2D((2, 2)))\n",
    "model.add(Dropout(0.4))\n",
    "\n",
    "model.add(Flatten())\n",
    "model.add(BatchNormalization())\n",
    "model.add(Dense(10, activation='softmax'))\n",
    "\n",
    "model.summary()"
   ]
  },
  {
   "cell_type": "code",
   "execution_count": 72,
   "metadata": {
    "id": "M_pAuaPfcBCB"
   },
   "outputs": [],
   "source": [
    "from keras import optimizers\n",
    "\n",
    "learning_rate = 1e-4 # to be tuned!\n",
    "\n",
    "model.compile(loss='categorical_crossentropy',\n",
    "              optimizer=optimizers.RMSprop(lr=learning_rate),\n",
    "              metrics=['acc'])"
   ]
  },
  {
   "cell_type": "code",
   "execution_count": 73,
   "metadata": {
    "colab": {
     "base_uri": "https://localhost:8080/"
    },
    "id": "E3UB4ndqcBCB",
    "outputId": "4d4d83b1-5ccc-4f3e-d39d-6d7a4e1020f5"
   },
   "outputs": [
    {
     "name": "stdout",
     "output_type": "stream",
     "text": [
      "Epoch 1/25\n",
      "625/625 [==============================] - 28s 42ms/step - loss: 2.3070 - acc: 0.2615 - val_loss: 1.4830 - val_acc: 0.4818\n",
      "Epoch 2/25\n",
      "625/625 [==============================] - 20s 32ms/step - loss: 1.6476 - acc: 0.4330 - val_loss: 1.3367 - val_acc: 0.5332\n",
      "Epoch 3/25\n",
      "625/625 [==============================] - 20s 31ms/step - loss: 1.4522 - acc: 0.4928 - val_loss: 1.2029 - val_acc: 0.5803\n",
      "Epoch 4/25\n",
      "625/625 [==============================] - 20s 32ms/step - loss: 1.3124 - acc: 0.5384 - val_loss: 1.1008 - val_acc: 0.6159\n",
      "Epoch 5/25\n",
      "625/625 [==============================] - 20s 31ms/step - loss: 1.2007 - acc: 0.5767 - val_loss: 1.0934 - val_acc: 0.6236\n",
      "Epoch 6/25\n",
      "625/625 [==============================] - 20s 32ms/step - loss: 1.1046 - acc: 0.6099 - val_loss: 1.0791 - val_acc: 0.6284\n",
      "Epoch 7/25\n",
      "625/625 [==============================] - 20s 31ms/step - loss: 1.0415 - acc: 0.6316 - val_loss: 1.0693 - val_acc: 0.6359\n",
      "Epoch 8/25\n",
      "625/625 [==============================] - 20s 32ms/step - loss: 0.9859 - acc: 0.6537 - val_loss: 1.0028 - val_acc: 0.6561\n",
      "Epoch 9/25\n",
      "625/625 [==============================] - 20s 32ms/step - loss: 0.9415 - acc: 0.6694 - val_loss: 0.9475 - val_acc: 0.6727\n",
      "Epoch 10/25\n",
      "625/625 [==============================] - 20s 32ms/step - loss: 0.8956 - acc: 0.6863 - val_loss: 0.8941 - val_acc: 0.6917\n",
      "Epoch 11/25\n",
      "625/625 [==============================] - 20s 31ms/step - loss: 0.8617 - acc: 0.6958 - val_loss: 0.8622 - val_acc: 0.6983\n",
      "Epoch 12/25\n",
      "625/625 [==============================] - 20s 32ms/step - loss: 0.8301 - acc: 0.7064 - val_loss: 0.8414 - val_acc: 0.7115\n",
      "Epoch 13/25\n",
      "625/625 [==============================] - 20s 31ms/step - loss: 0.7905 - acc: 0.7223 - val_loss: 0.8528 - val_acc: 0.7067\n",
      "Epoch 14/25\n",
      "625/625 [==============================] - 20s 31ms/step - loss: 0.7732 - acc: 0.7304 - val_loss: 0.8387 - val_acc: 0.7138\n",
      "Epoch 15/25\n",
      "625/625 [==============================] - 20s 31ms/step - loss: 0.7711 - acc: 0.7282 - val_loss: 0.8307 - val_acc: 0.7148\n",
      "Epoch 16/25\n",
      "625/625 [==============================] - 20s 31ms/step - loss: 0.7271 - acc: 0.7445 - val_loss: 0.8115 - val_acc: 0.7250\n",
      "Epoch 17/25\n",
      "625/625 [==============================] - 20s 31ms/step - loss: 0.7085 - acc: 0.7501 - val_loss: 0.7597 - val_acc: 0.7389\n",
      "Epoch 18/25\n",
      "625/625 [==============================] - 20s 31ms/step - loss: 0.7004 - acc: 0.7531 - val_loss: 0.7526 - val_acc: 0.7462\n",
      "Epoch 19/25\n",
      "625/625 [==============================] - 19s 31ms/step - loss: 0.6775 - acc: 0.7604 - val_loss: 0.7640 - val_acc: 0.7389\n",
      "Epoch 20/25\n",
      "625/625 [==============================] - 20s 31ms/step - loss: 0.6725 - acc: 0.7618 - val_loss: 0.7170 - val_acc: 0.7546\n",
      "Epoch 21/25\n",
      "625/625 [==============================] - 20s 31ms/step - loss: 0.6380 - acc: 0.7743 - val_loss: 0.7213 - val_acc: 0.7525\n",
      "Epoch 22/25\n",
      "625/625 [==============================] - 20s 31ms/step - loss: 0.6330 - acc: 0.7780 - val_loss: 0.6911 - val_acc: 0.7613\n",
      "Epoch 23/25\n",
      "625/625 [==============================] - 20s 31ms/step - loss: 0.6213 - acc: 0.7813 - val_loss: 0.7558 - val_acc: 0.7448\n",
      "Epoch 24/25\n",
      "625/625 [==============================] - 20s 31ms/step - loss: 0.6060 - acc: 0.7869 - val_loss: 0.6985 - val_acc: 0.7613\n",
      "Epoch 25/25\n",
      "625/625 [==============================] - 20s 31ms/step - loss: 0.5905 - acc: 0.7919 - val_loss: 0.6730 - val_acc: 0.7702\n"
     ]
    }
   ],
   "source": [
    "history = model.fit(x_tr, y_tr, batch_size=64, epochs=25, validation_data=(x_val, y_val))"
   ]
  },
  {
   "cell_type": "code",
   "execution_count": 74,
   "metadata": {
    "colab": {
     "base_uri": "https://localhost:8080/",
     "height": 279
    },
    "id": "Tj7NKGYEcBCC",
    "outputId": "d3ed32a7-b7b1-4a13-b664-ba8f40be0561"
   },
   "outputs": [
    {
     "data": {
      "image/png": "[encoded data removed]",
      "text/plain": [
       "<Figure size 432x288 with 1 Axes>"
      ]
     },
     "metadata": {
      "needs_background": "light",
      "tags": []
     },
     "output_type": "display_data"
    }
   ],
   "source": [
    "import matplotlib.pyplot as plt\n",
    "%matplotlib inline\n",
    "\n",
    "acc = history.history['acc']\n",
    "val_acc = history.history['val_acc']\n",
    "\n",
    "epochs = range(len(acc))\n",
    "\n",
    "plt.plot(epochs, acc, 'bo', label='Training acc')\n",
    "plt.plot(epochs, val_acc, 'r', label='Validation acc')\n",
    "plt.xlabel('Epochs')\n",
    "plt.ylabel('Accuracy')\n",
    "plt.legend()\n",
    "plt.show()"
   ]
  },
  {
   "cell_type": "markdown",
   "metadata": {
    "id": "gkYCe9OOcBCC"
   },
   "source": [
    "## 3. Train (again) and evaluate the model\n",
    "\n",
    "- To this end, you have found the \"best\" hyper-parameters. \n",
    "- Now, fix the hyper-parameters and train the network on the entire training set (all the 50K training samples)\n",
    "- Evaluate your model on the test set."
   ]
  },
  {
   "cell_type": "markdown",
   "metadata": {
    "id": "iJASXPYycBCD"
   },
   "source": [
    "### 3.1. Train the model on the entire training set\n",
    "\n",
    "Why? Previously, you used 40K samples for training; you wasted 10K samples for the sake of hyper-parameter tuning. Now you already know the hyper-parameters, so why not using all the 50K samples for training?"
   ]
  },
  {
   "cell_type": "code",
   "execution_count": 75,
   "metadata": {
    "id": "aH-5Frs2cBCD"
   },
   "outputs": [],
   "source": [
    "learning_rate = 1e-4 # to be tuned!\n",
    "\n",
    "model.compile(loss='categorical_crossentropy',\n",
    "              optimizer=optimizers.RMSprop(lr=learning_rate),\n",
    "              metrics=['acc'])"
   ]
  },
  {
   "cell_type": "code",
   "execution_count": 77,
   "metadata": {
    "colab": {
     "base_uri": "https://localhost:8080/"
    },
    "id": "IalWGGJQcBCE",
    "outputId": "971ce624-9422-4ac9-b5e6-ebe7f99686bc"
   },
   "outputs": [
    {
     "name": "stdout",
     "output_type": "stream",
     "text": [
      "Epoch 1/25\n",
      "782/782 [==============================] - 22s 28ms/step - loss: 0.6231 - acc: 0.7823\n",
      "Epoch 2/25\n",
      "782/782 [==============================] - 21s 27ms/step - loss: 0.6090 - acc: 0.7864\n",
      "Epoch 3/25\n",
      "782/782 [==============================] - 21s 27ms/step - loss: 0.5934 - acc: 0.7935\n",
      "Epoch 4/25\n",
      "782/782 [==============================] - 21s 27ms/step - loss: 0.5824 - acc: 0.7955\n",
      "Epoch 5/25\n",
      "782/782 [==============================] - 21s 27ms/step - loss: 0.5652 - acc: 0.8015\n",
      "Epoch 6/25\n",
      "782/782 [==============================] - 21s 27ms/step - loss: 0.5580 - acc: 0.8050\n",
      "Epoch 7/25\n",
      "782/782 [==============================] - 21s 27ms/step - loss: 0.5465 - acc: 0.8097\n",
      "Epoch 8/25\n",
      "782/782 [==============================] - 21s 27ms/step - loss: 0.5348 - acc: 0.8126\n",
      "Epoch 9/25\n",
      "782/782 [==============================] - 21s 27ms/step - loss: 0.5268 - acc: 0.8152\n",
      "Epoch 10/25\n",
      "782/782 [==============================] - 21s 27ms/step - loss: 0.5167 - acc: 0.8195\n",
      "Epoch 11/25\n",
      "782/782 [==============================] - 21s 27ms/step - loss: 0.5058 - acc: 0.8224\n",
      "Epoch 12/25\n",
      "782/782 [==============================] - 21s 27ms/step - loss: 0.4948 - acc: 0.8260\n",
      "Epoch 13/25\n",
      "782/782 [==============================] - 21s 27ms/step - loss: 0.4867 - acc: 0.8285\n",
      "Epoch 14/25\n",
      "782/782 [==============================] - 21s 27ms/step - loss: 0.4817 - acc: 0.8287\n",
      "Epoch 15/25\n",
      "782/782 [==============================] - 21s 27ms/step - loss: 0.4711 - acc: 0.8343\n",
      "Epoch 16/25\n",
      "782/782 [==============================] - 21s 27ms/step - loss: 0.4656 - acc: 0.8347\n",
      "Epoch 17/25\n",
      "782/782 [==============================] - 21s 27ms/step - loss: 0.4589 - acc: 0.8390\n",
      "Epoch 18/25\n",
      "782/782 [==============================] - 21s 27ms/step - loss: 0.4476 - acc: 0.8427\n",
      "Epoch 19/25\n",
      "782/782 [==============================] - 21s 27ms/step - loss: 0.4391 - acc: 0.8452\n",
      "Epoch 20/25\n",
      "782/782 [==============================] - 21s 27ms/step - loss: 0.4328 - acc: 0.8467\n",
      "Epoch 21/25\n",
      "782/782 [==============================] - 22s 28ms/step - loss: 0.4302 - acc: 0.8486\n",
      "Epoch 22/25\n",
      "782/782 [==============================] - 22s 28ms/step - loss: 0.4237 - acc: 0.8511\n",
      "Epoch 23/25\n",
      "782/782 [==============================] - 22s 28ms/step - loss: 0.4101 - acc: 0.8553\n",
      "Epoch 24/25\n",
      "782/782 [==============================] - 22s 28ms/step - loss: 0.4087 - acc: 0.8557\n",
      "Epoch 25/25\n",
      "782/782 [==============================] - 22s 28ms/step - loss: 0.4051 - acc: 0.8572\n"
     ]
    }
   ],
   "source": [
    "# <Train your model on the entire training set (50K samples)>\n",
    "# <Use (x_train, y_train_vec) instead of (x_tr, y_tr)>\n",
    "# <Do NOT use the validation_data option (because now you do not have validation data)>\n",
    "\n",
    "history = model.fit(x_train, y_train_vec, batch_size=64, epochs=25)"
   ]
  },
  {
   "cell_type": "markdown",
   "metadata": {
    "id": "zCucupYNcBCF"
   },
   "source": [
    "### 3.2. Evaluate the model on the test set\n",
    "\n",
    "Do NOT used the test set until now. Make sure that your model parameters and hyper-parameters are independent of the test set."
   ]
  },
  {
   "cell_type": "code",
   "execution_count": 78,
   "metadata": {
    "colab": {
     "base_uri": "https://localhost:8080/"
    },
    "id": "jnMgVoUqcBCS",
    "outputId": "6d27f43b-2e53-42b9-87d7-b7d403b034b3"
   },
   "outputs": [
    {
     "name": "stdout",
     "output_type": "stream",
     "text": [
      "313/313 [==============================] - 3s 8ms/step - loss: 0.5742 - acc: 0.8115\n",
      "loss = 0.5742359757423401\n",
      "accuracy = 0.8115000128746033\n"
     ]
    }
   ],
   "source": [
    "loss_and_acc = model.evaluate(x_test, y_test_vec)\n",
    "print('loss = ' + str(loss_and_acc[0]))\n",
    "print('accuracy = ' + str(loss_and_acc[1]))"
   ]
  },
  {
   "cell_type": "code",
   "execution_count": null,
   "metadata": {
    "id": "p_TpKJCOcBCT"
   },
   "outputs": [],
   "source": []
  }
 ],
 "metadata": {
  "accelerator": "GPU",
  "colab": {
   "name": "HM4.ipynb",
   "provenance": []
  },
  "kernelspec": {
   "display_name": "Python 3",
   "language": "python",
   "name": "python3"
  },
  "language_info": {
   "codemirror_mode": {
    "name": "ipython",
    "version": 2
   },
   "file_extension": ".py",
   "mimetype": "text/x-python",
   "name": "python",
   "nbconvert_exporter": "python",
   "pygments_lexer": "ipython2",
   "version": "2.7.12+"
  }
 },
 "nbformat": 4,
 "nbformat_minor": 1
}
