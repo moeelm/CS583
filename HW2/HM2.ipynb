{
 "cells": [
  {
   "cell_type": "markdown",
   "metadata": {},
   "source": [
    "# HM2: Numerical Optimization for Logistic Regression.\n",
    "\n",
    "### Name: Mohammed Elmzaghi\n",
    "I pledge that I have abided by the Stevens Honor System"
   ]
  },
  {
   "cell_type": "markdown",
   "metadata": {},
   "source": [
    "## 0. You will do the following:\n",
    "\n",
    "1. Read the lecture note: [click here](https://github.com/wangshusen/DeepLearning/blob/master/LectureNotes/Logistic/paper/logistic.pdf)\n",
    "\n",
    "2. Read, complete, and run my code.\n",
    "\n",
    "3. **Implement mini-batch SGD** and evaluate the performance.\n",
    "\n",
    "4. Convert the .IPYNB file to .HTML file.\n",
    "\n",
    "    * The HTML file must contain **the code** and **the output after execution**.\n",
    "    \n",
    "    * Missing **the output after execution** will not be graded.\n",
    "    \n",
    "5. Upload this .HTML file to your Google Drive, Dropbox, or your Github repo.  (If you submit the file to Google Drive or Dropbox, you must make the file \"open-access\". The delay caused by \"deny of access\" may result in late penalty.)\n",
    "\n",
    "6. Submit the link to this .HTML file to Canvas.\n",
    "\n",
    "    * Example: https://github.com/wangshusen/CS583-2020S/blob/master/homework/HM2/HM2.html\n",
    "\n",
    "\n",
    "## Grading criteria:\n",
    "\n",
    "1. When computing the ```gradient``` and ```objective function value``` using a batch of samples, use **matrix-vector multiplication** rather than a FOR LOOP of **vector-vector multiplications**.\n",
    "\n",
    "2. Plot ```objective function value``` against ```epochs```. In the plot, compare GD, SGD, and MB-SGD (with $b=8$ and $b=64$). The plot must look reasonable."
   ]
  },
  {
   "cell_type": "code",
   "execution_count": null,
   "metadata": {},
   "outputs": [],
   "source": []
  },
  {
   "cell_type": "markdown",
   "metadata": {},
   "source": [
    "# 1. Data processing\n",
    "\n",
    "- Download the Diabete dataset from https://www.csie.ntu.edu.tw/~cjlin/libsvmtools/datasets/binary/diabetes\n",
    "- Load the data using sklearn.\n",
    "- Preprocess the data."
   ]
  },
  {
   "cell_type": "markdown",
   "metadata": {},
   "source": [
    "## 1.1. Load the data"
   ]
  },
  {
   "cell_type": "code",
   "execution_count": 1,
   "metadata": {},
   "outputs": [
    {
     "name": "stdout",
     "output_type": "stream",
     "text": [
      "Shape of x: (768, 8)\n",
      "Shape of y: (768,)\n"
     ]
    }
   ],
   "source": [
    "from sklearn import datasets\n",
    "import numpy\n",
    "\n",
    "x_sparse, y = datasets.load_svmlight_file('diabetes')\n",
    "x = x_sparse.todense()\n",
    "\n",
    "print('Shape of x: ' + str(x.shape))\n",
    "print('Shape of y: ' + str(y.shape))"
   ]
  },
  {
   "cell_type": "markdown",
   "metadata": {},
   "source": [
    "## 1.2. Partition to training and test sets"
   ]
  },
  {
   "cell_type": "code",
   "execution_count": 2,
   "metadata": {},
   "outputs": [
    {
     "name": "stdout",
     "output_type": "stream",
     "text": [
      "Shape of x_train: (640, 8)\n",
      "Shape of x_test: (128, 8)\n",
      "Shape of y_train: (640, 1)\n",
      "Shape of y_test: (128, 1)\n"
     ]
    }
   ],
   "source": [
    "# partition the data to training and test sets\n",
    "n = x.shape[0]\n",
    "n_train = 640\n",
    "n_test = n - n_train\n",
    "\n",
    "rand_indices = numpy.random.permutation(n)\n",
    "train_indices = rand_indices[0:n_train]\n",
    "test_indices = rand_indices[n_train:n]\n",
    "\n",
    "x_train = x[train_indices, :]\n",
    "x_test = x[test_indices, :]\n",
    "y_train = y[train_indices].reshape(n_train, 1)\n",
    "y_test = y[test_indices].reshape(n_test, 1)\n",
    "\n",
    "print('Shape of x_train: ' + str(x_train.shape))\n",
    "print('Shape of x_test: ' + str(x_test.shape))\n",
    "print('Shape of y_train: ' + str(y_train.shape))\n",
    "print('Shape of y_test: ' + str(y_test.shape))"
   ]
  },
  {
   "cell_type": "markdown",
   "metadata": {},
   "source": [
    "## 1.3. Feature scaling"
   ]
  },
  {
   "cell_type": "markdown",
   "metadata": {},
   "source": [
    "Use the standardization to trainsform both training and test features"
   ]
  },
  {
   "cell_type": "code",
   "execution_count": 3,
   "metadata": {},
   "outputs": [
    {
     "name": "stdout",
     "output_type": "stream",
     "text": [
      "test mean = \n",
      "[[-0.19827384 -0.10879671  0.04165348  0.07841553 -0.06850782  0.04844617\n",
      "  -0.10482027 -0.04447239]]\n",
      "test std = \n",
      "[[ 0.90025077  1.01608593  0.95993358  0.95220849  0.99277743  0.94904493\n",
      "   0.88277997  1.09583034]]\n"
     ]
    }
   ],
   "source": [
    "# Standardization\n",
    "import numpy\n",
    "\n",
    "# calculate mu and sig using the training set\n",
    "d = x_train.shape[1]\n",
    "mu = numpy.mean(x_train, axis=0).reshape(1, d)\n",
    "sig = numpy.std(x_train, axis=0).reshape(1, d)\n",
    "\n",
    "# transform the training features\n",
    "x_train = (x_train - mu) / (sig + 1E-6)\n",
    "\n",
    "# transform the test features\n",
    "x_test = (x_test - mu) / (sig + 1E-6)\n",
    "\n",
    "print('test mean = ')\n",
    "print(numpy.mean(x_test, axis=0))\n",
    "\n",
    "print('test std = ')\n",
    "print(numpy.std(x_test, axis=0))"
   ]
  },
  {
   "cell_type": "markdown",
   "metadata": {},
   "source": [
    "## 1.4. Add a dimension of all ones"
   ]
  },
  {
   "cell_type": "code",
   "execution_count": 4,
   "metadata": {},
   "outputs": [
    {
     "name": "stdout",
     "output_type": "stream",
     "text": [
      "Shape of x_train: (640, 9)\n",
      "Shape of x_test: (128, 9)\n"
     ]
    }
   ],
   "source": [
    "n_train, d = x_train.shape\n",
    "x_train = numpy.concatenate((x_train, numpy.ones((n_train, 1))), axis=1)\n",
    "\n",
    "n_test, d = x_test.shape\n",
    "x_test = numpy.concatenate((x_test, numpy.ones((n_test, 1))), axis=1)\n",
    "\n",
    "print('Shape of x_train: ' + str(x_train.shape))\n",
    "print('Shape of x_test: ' + str(x_test.shape))"
   ]
  },
  {
   "cell_type": "markdown",
   "metadata": {},
   "source": [
    "# 2. Logistic regression model\n",
    "\n",
    "The objective function is $Q (w; X, y) = \\frac{1}{n} \\sum_{i=1}^n \\log \\Big( 1 + \\exp \\big( - y_i x_i^T w \\big) \\Big) + \\frac{\\lambda}{2} \\| w \\|_2^2 $."
   ]
  },
  {
   "cell_type": "code",
   "execution_count": 5,
   "metadata": {},
   "outputs": [],
   "source": [
    "# Calculate the objective function value\n",
    "# Inputs:\n",
    "#     w: d-by-1 matrix\n",
    "#     x: n-by-d matrix\n",
    "#     y: n-by-1 matrix\n",
    "#     lam: scalar, the regularization parameter\n",
    "# Return:\n",
    "#     objective function value (scalar)\n",
    "def objective(w, x, y, lam):\n",
    "    n, d = x.shape\n",
    "    yx = numpy.multiply(y, x) # n-by-d matrix\n",
    "    yxw = numpy.dot(yx, w) # n-by-1 matrix\n",
    "    vec1 = numpy.exp(-yxw) # n-by-1 matrix\n",
    "    vec2 = numpy.log(1 + vec1) # n-by-1 matrix\n",
    "    loss = numpy.mean(vec2) # scalar\n",
    "    reg = lam / 2 * numpy.sum(w * w) # scalar\n",
    "    return loss + reg\n",
    "    "
   ]
  },
  {
   "cell_type": "code",
   "execution_count": 6,
   "metadata": {},
   "outputs": [
    {
     "name": "stdout",
     "output_type": "stream",
     "text": [
      "Initial objective function value = 0.69314718056\n"
     ]
    }
   ],
   "source": [
    "# initialize w\n",
    "d = x_train.shape[1]\n",
    "w = numpy.zeros((d, 1))\n",
    "\n",
    "# evaluate the objective function value at w\n",
    "lam = 1E-6\n",
    "objval0 = objective(w, x_train, y_train, lam)\n",
    "print('Initial objective function value = ' + str(objval0))"
   ]
  },
  {
   "cell_type": "markdown",
   "metadata": {},
   "source": [
    "# 3. Numerical optimization"
   ]
  },
  {
   "cell_type": "markdown",
   "metadata": {},
   "source": [
    "## 3.1. Gradient descent\n"
   ]
  },
  {
   "cell_type": "markdown",
   "metadata": {},
   "source": [
    "The gradient at $w$ is $g = - \\frac{1}{n} \\sum_{i=1}^n \\frac{y_i x_i }{1 + \\exp ( y_i x_i^T w)} + \\lambda w$"
   ]
  },
  {
   "cell_type": "code",
   "execution_count": 7,
   "metadata": {},
   "outputs": [],
   "source": [
    "# Calculate the gradient\n",
    "# Inputs:\n",
    "#     w: d-by-1 matrix\n",
    "#     x: n-by-d matrix\n",
    "#     y: n-by-1 matrix\n",
    "#     lam: scalar, the regularization parameter\n",
    "# Return:\n",
    "#     g: g: d-by-1 matrix, full gradient\n",
    "def gradient(w, x, y, lam):\n",
    "    n, d = x.shape\n",
    "    yx = numpy.multiply(y, x) # n-by-d matrix\n",
    "    yxw = numpy.dot(yx, w) # n-by-1 matrix\n",
    "    vec1 = numpy.exp(yxw) # n-by-1 matrix\n",
    "    vec2 = numpy.divide(yx, 1+vec1) # n-by-d matrix\n",
    "    vec3 = -numpy.mean(vec2, axis=0).reshape(d, 1) # d-by-1 matrix\n",
    "    g = vec3 + lam * w\n",
    "    return g"
   ]
  },
  {
   "cell_type": "code",
   "execution_count": 8,
   "metadata": {},
   "outputs": [],
   "source": [
    "# Gradient descent for solving logistic regression\n",
    "# Inputs:\n",
    "#     x: n-by-d matrix\n",
    "#     y: n-by-1 matrix\n",
    "#     lam: scalar, the regularization parameter\n",
    "#     stepsize: scalar\n",
    "#     max_iter: integer, the maximal iterations\n",
    "#     w: d-by-1 matrix, initialization of w\n",
    "# Return:\n",
    "#     w: d-by-1 matrix, the solution\n",
    "#     objvals: a record of each iteration's objective value\n",
    "def grad_descent(x, y, lam, stepsize, max_iter=100, w=None):\n",
    "    n, d = x.shape\n",
    "    objvals = numpy.zeros(max_iter) # store the objective values\n",
    "    if w is None:\n",
    "        w = numpy.zeros((d, 1)) # zero initialization\n",
    "    \n",
    "    for t in range(max_iter):\n",
    "        objval = objective(w, x, y, lam)\n",
    "        objvals[t] = objval\n",
    "        print('Objective value at t=' + str(t) + ' is ' + str(objval))\n",
    "        g = gradient(w, x, y, lam)\n",
    "        w -= stepsize * g\n",
    "    \n",
    "    return w, objvals"
   ]
  },
  {
   "cell_type": "markdown",
   "metadata": {},
   "source": [
    "Run gradient descent."
   ]
  },
  {
   "cell_type": "code",
   "execution_count": 9,
   "metadata": {},
   "outputs": [
    {
     "name": "stdout",
     "output_type": "stream",
     "text": [
      "Objective value at t=0 is 0.69314718056\n",
      "Objective value at t=1 is 0.59108226287\n",
      "Objective value at t=2 is 0.548384648104\n",
      "Objective value at t=3 is 0.525175339769\n",
      "Objective value at t=4 is 0.510616745312\n",
      "Objective value at t=5 is 0.500729287134\n",
      "Objective value at t=6 is 0.493677849009\n",
      "Objective value at t=7 is 0.488480420093\n",
      "Objective value at t=8 is 0.484556648145\n",
      "Objective value at t=9 is 0.481539332764\n",
      "Objective value at t=10 is 0.479184556378\n",
      "Objective value at t=11 is 0.477324323086\n",
      "Objective value at t=12 is 0.475839630373\n",
      "Objective value at t=13 is 0.474644248381\n",
      "Objective value at t=14 is 0.473674504588\n",
      "Objective value at t=15 is 0.472882621109\n",
      "Objective value at t=16 is 0.472232244053\n",
      "Objective value at t=17 is 0.471695372033\n",
      "Objective value at t=18 is 0.471250202918\n",
      "Objective value at t=19 is 0.470879597498\n",
      "Objective value at t=20 is 0.470569966047\n",
      "Objective value at t=21 is 0.47031045001\n",
      "Objective value at t=22 is 0.470092312888\n",
      "Objective value at t=23 is 0.469908481591\n",
      "Objective value at t=24 is 0.469753197407\n",
      "Objective value at t=25 is 0.469621747826\n",
      "Objective value at t=26 is 0.469510258632\n",
      "Objective value at t=27 is 0.469415531399\n",
      "Objective value at t=28 is 0.469334915526\n",
      "Objective value at t=29 is 0.469266206755\n",
      "Objective value at t=30 is 0.469207566183\n",
      "Objective value at t=31 is 0.469157455246\n",
      "Objective value at t=32 is 0.469114583237\n",
      "Objective value at t=33 is 0.469077864734\n",
      "Objective value at t=34 is 0.469046384897\n",
      "Objective value at t=35 is 0.469019371068\n",
      "Objective value at t=36 is 0.46899616943\n",
      "Objective value at t=37 is 0.468976225752\n",
      "Objective value at t=38 is 0.468959069457\n",
      "Objective value at t=39 is 0.468944300394\n",
      "Objective value at t=40 is 0.468931577818\n",
      "Objective value at t=41 is 0.468920611197\n",
      "Objective value at t=42 is 0.468911152511\n",
      "Objective value at t=43 is 0.468902989793\n",
      "Objective value at t=44 is 0.468895941696\n",
      "Objective value at t=45 is 0.468889852918\n",
      "Objective value at t=46 is 0.468884590338\n",
      "Objective value at t=47 is 0.46888003975\n",
      "Objective value at t=48 is 0.468876103096\n",
      "Objective value at t=49 is 0.468872696117\n",
      "Objective value at t=50 is 0.468869746359\n",
      "Objective value at t=51 is 0.468867191478\n",
      "Objective value at t=52 is 0.468864977795\n",
      "Objective value at t=53 is 0.468863059061\n",
      "Objective value at t=54 is 0.468861395407\n",
      "Objective value at t=55 is 0.468859952448\n",
      "Objective value at t=56 is 0.468858700508\n",
      "Objective value at t=57 is 0.468857613965\n",
      "Objective value at t=58 is 0.468856670688\n",
      "Objective value at t=59 is 0.46885585155\n",
      "Objective value at t=60 is 0.468855140015\n",
      "Objective value at t=61 is 0.468854521781\n",
      "Objective value at t=62 is 0.468853984471\n",
      "Objective value at t=63 is 0.468853517373\n",
      "Objective value at t=64 is 0.468853111211\n",
      "Objective value at t=65 is 0.468852757949\n",
      "Objective value at t=66 is 0.468852450625\n",
      "Objective value at t=67 is 0.468852183203\n",
      "Objective value at t=68 is 0.468851950449\n",
      "Objective value at t=69 is 0.468851747825\n",
      "Objective value at t=70 is 0.468851571392\n",
      "Objective value at t=71 is 0.468851417732\n",
      "Objective value at t=72 is 0.468851283879\n",
      "Objective value at t=73 is 0.468851167255\n",
      "Objective value at t=74 is 0.468851065623\n",
      "Objective value at t=75 is 0.468850977038\n",
      "Objective value at t=76 is 0.46885089981\n",
      "Objective value at t=77 is 0.468850832472\n",
      "Objective value at t=78 is 0.468850773746\n",
      "Objective value at t=79 is 0.46885072252\n",
      "Objective value at t=80 is 0.46885067783\n",
      "Objective value at t=81 is 0.468850638835\n",
      "Objective value at t=82 is 0.468850604803\n",
      "Objective value at t=83 is 0.468850575098\n",
      "Objective value at t=84 is 0.468850549165\n",
      "Objective value at t=85 is 0.468850526522\n",
      "Objective value at t=86 is 0.468850506747\n",
      "Objective value at t=87 is 0.468850489476\n",
      "Objective value at t=88 is 0.468850474389\n",
      "Objective value at t=89 is 0.468850461207\n",
      "Objective value at t=90 is 0.468850449689\n",
      "Objective value at t=91 is 0.468850439622\n",
      "Objective value at t=92 is 0.468850430824\n",
      "Objective value at t=93 is 0.468850423132\n",
      "Objective value at t=94 is 0.468850416407\n",
      "Objective value at t=95 is 0.468850410527\n",
      "Objective value at t=96 is 0.468850405384\n",
      "Objective value at t=97 is 0.468850400886\n",
      "Objective value at t=98 is 0.468850396951\n",
      "Objective value at t=99 is 0.468850393508\n"
     ]
    }
   ],
   "source": [
    "lam = 1E-6\n",
    "stepsize = 1.0\n",
    "w, objvals_gd = grad_descent(x_train, y_train, lam, stepsize)"
   ]
  },
  {
   "cell_type": "markdown",
   "metadata": {},
   "source": [
    "## 3.2. Stochastic gradient descent (SGD)\n",
    "\n",
    "Define $Q_i (w) = \\log \\Big( 1 + \\exp \\big( - y_i x_i^T w \\big) \\Big) + \\frac{\\lambda}{2} \\| w \\|_2^2 $.\n",
    "\n",
    "The stochastic gradient at $w$ is $g_i = \\frac{\\partial Q_i }{ \\partial w} = -\\frac{y_i x_i }{1 + \\exp ( y_i x_i^T w)} + \\lambda w$."
   ]
  },
  {
   "cell_type": "code",
   "execution_count": 11,
   "metadata": {},
   "outputs": [],
   "source": [
    "# Calculate the objective Q_i and the gradient of Q_i\n",
    "# Inputs:\n",
    "#     w: d-by-1 matrix\n",
    "#     xi: 1-by-d matrix\n",
    "#     yi: scalar\n",
    "#     lam: scalar, the regularization parameter\n",
    "# Return:\n",
    "#     obj: scalar, the objective Q_i\n",
    "#     g: d-by-1 matrix, gradient of Q_i\n",
    "def stochastic_objective_gradient(w, xi, yi, lam):\n",
    "    d = xi.shape[0]\n",
    "    yx = yi * xi # 1-by-d matrix\n",
    "    yxw = float(numpy.dot(yx, w)) # scalar\n",
    "    \n",
    "    # calculate objective function Q_i\n",
    "    loss = numpy.log(1 + numpy.exp(-yxw)) # scalar\n",
    "    reg = lam / 2 * numpy.sum(w * w) # scalar\n",
    "    obj = loss + reg\n",
    "    \n",
    "    # calculate stochastic gradient\n",
    "    g_loss = -yx.T / (1 + numpy.exp(yxw)) # d-by-1 matrix\n",
    "    g = g_loss + lam * w # d-by-1 matrix\n",
    "    \n",
    "    return obj, g"
   ]
  },
  {
   "cell_type": "code",
   "execution_count": 12,
   "metadata": {},
   "outputs": [],
   "source": [
    "# SGD for solving logistic regression\n",
    "# Inputs:\n",
    "#     x: n-by-d matrix\n",
    "#     y: n-by-1 matrix\n",
    "#     lam: scalar, the regularization parameter\n",
    "#     stepsize: scalar\n",
    "#     max_epoch: integer, the maximal epochs\n",
    "#     w: d-by-1 matrix, initialization of w\n",
    "# Return:\n",
    "#     w: the solution\n",
    "#     objvals: record of each iteration's objective value\n",
    "def sgd(x, y, lam, stepsize, max_epoch=100, w=None):\n",
    "    n, d = x.shape\n",
    "    objvals = numpy.zeros(max_epoch) # store the objective values\n",
    "    if w is None:\n",
    "        w = numpy.zeros((d, 1)) # zero initialization\n",
    "    \n",
    "    for t in range(max_epoch):\n",
    "        # randomly shuffle the samples\n",
    "        rand_indices = numpy.random.permutation(n)\n",
    "        x_rand = x[rand_indices, :]\n",
    "        y_rand = y[rand_indices, :]\n",
    "        \n",
    "        objval = 0 # accumulate the objective values\n",
    "        for i in range(n):\n",
    "            xi = x_rand[i, :] # 1-by-d matrix\n",
    "            yi = float(y_rand[i, :]) # scalar\n",
    "            obj, g = stochastic_objective_gradient(w, xi, yi, lam)\n",
    "            objval += obj\n",
    "            w -= stepsize * g\n",
    "        \n",
    "        stepsize *= 0.9 # decrease step size\n",
    "        objval /= n\n",
    "        objvals[t] = objval\n",
    "        print('Objective value at epoch t=' + str(t) + ' is ' + str(objval))\n",
    "    \n",
    "    return w, objvals"
   ]
  },
  {
   "cell_type": "markdown",
   "metadata": {},
   "source": [
    "Run SGD."
   ]
  },
  {
   "cell_type": "code",
   "execution_count": 13,
   "metadata": {},
   "outputs": [
    {
     "name": "stdout",
     "output_type": "stream",
     "text": [
      "Objective value at epoch t=0 is 0.506715489465\n",
      "Objective value at epoch t=1 is 0.511045364205\n",
      "Objective value at epoch t=2 is 0.51361297105\n",
      "Objective value at epoch t=3 is 0.508158730063\n",
      "Objective value at epoch t=4 is 0.503612487326\n",
      "Objective value at epoch t=5 is 0.50136718949\n",
      "Objective value at epoch t=6 is 0.500084974054\n",
      "Objective value at epoch t=7 is 0.495475358439\n",
      "Objective value at epoch t=8 is 0.487318945702\n",
      "Objective value at epoch t=9 is 0.493336078302\n",
      "Objective value at epoch t=10 is 0.486409595446\n",
      "Objective value at epoch t=11 is 0.487875665671\n",
      "Objective value at epoch t=12 is 0.486569633973\n",
      "Objective value at epoch t=13 is 0.483380463089\n",
      "Objective value at epoch t=14 is 0.482381972694\n",
      "Objective value at epoch t=15 is 0.479960704366\n",
      "Objective value at epoch t=16 is 0.481156110631\n",
      "Objective value at epoch t=17 is 0.478847195266\n",
      "Objective value at epoch t=18 is 0.477661392237\n",
      "Objective value at epoch t=19 is 0.478400785257\n",
      "Objective value at epoch t=20 is 0.476993924476\n",
      "Objective value at epoch t=21 is 0.474435205118\n",
      "Objective value at epoch t=22 is 0.47505500202\n",
      "Objective value at epoch t=23 is 0.474011739798\n",
      "Objective value at epoch t=24 is 0.474476797602\n",
      "Objective value at epoch t=25 is 0.473842812166\n",
      "Objective value at epoch t=26 is 0.473012378534\n",
      "Objective value at epoch t=27 is 0.473154772657\n",
      "Objective value at epoch t=28 is 0.472566925175\n",
      "Objective value at epoch t=29 is 0.472130354644\n",
      "Objective value at epoch t=30 is 0.471870935632\n",
      "Objective value at epoch t=31 is 0.471359693067\n",
      "Objective value at epoch t=32 is 0.471343928093\n",
      "Objective value at epoch t=33 is 0.471050964213\n",
      "Objective value at epoch t=34 is 0.470845941234\n",
      "Objective value at epoch t=35 is 0.470653313352\n",
      "Objective value at epoch t=36 is 0.470508934627\n",
      "Objective value at epoch t=37 is 0.470300858461\n",
      "Objective value at epoch t=38 is 0.470136419911\n",
      "Objective value at epoch t=39 is 0.470047239651\n",
      "Objective value at epoch t=40 is 0.469943784449\n",
      "Objective value at epoch t=41 is 0.469839259783\n",
      "Objective value at epoch t=42 is 0.469734441215\n",
      "Objective value at epoch t=43 is 0.469622380374\n",
      "Objective value at epoch t=44 is 0.469575920226\n",
      "Objective value at epoch t=45 is 0.469492529888\n",
      "Objective value at epoch t=46 is 0.469432849679\n",
      "Objective value at epoch t=47 is 0.469377489465\n",
      "Objective value at epoch t=48 is 0.469324705051\n",
      "Objective value at epoch t=49 is 0.469277087006\n",
      "Objective value at epoch t=50 is 0.469232780311\n",
      "Objective value at epoch t=51 is 0.469198719721\n",
      "Objective value at epoch t=52 is 0.469159875958\n",
      "Objective value at epoch t=53 is 0.469131613653\n",
      "Objective value at epoch t=54 is 0.469104014033\n",
      "Objective value at epoch t=55 is 0.469079066257\n",
      "Objective value at epoch t=56 is 0.469056129914\n",
      "Objective value at epoch t=57 is 0.469035582561\n",
      "Objective value at epoch t=58 is 0.469016907234\n",
      "Objective value at epoch t=59 is 0.469000596361\n",
      "Objective value at epoch t=60 is 0.468985675675\n",
      "Objective value at epoch t=61 is 0.468972225156\n",
      "Objective value at epoch t=62 is 0.468959909729\n",
      "Objective value at epoch t=63 is 0.468949146608\n",
      "Objective value at epoch t=64 is 0.46893938697\n",
      "Objective value at epoch t=65 is 0.46893034474\n",
      "Objective value at epoch t=66 is 0.468922483353\n",
      "Objective value at epoch t=67 is 0.468915371159\n",
      "Objective value at epoch t=68 is 0.468908908192\n",
      "Objective value at epoch t=69 is 0.46890308741\n",
      "Objective value at epoch t=70 is 0.468897765029\n",
      "Objective value at epoch t=71 is 0.468893142773\n",
      "Objective value at epoch t=72 is 0.468888916379\n",
      "Objective value at epoch t=73 is 0.468885102248\n",
      "Objective value at epoch t=74 is 0.468881657902\n",
      "Objective value at epoch t=75 is 0.468878577059\n",
      "Objective value at epoch t=76 is 0.468875805955\n",
      "Objective value at epoch t=77 is 0.468873298123\n",
      "Objective value at epoch t=78 is 0.46887103755\n",
      "Objective value at epoch t=79 is 0.468869017982\n",
      "Objective value at epoch t=80 is 0.468867190015\n",
      "Objective value at epoch t=81 is 0.468865549684\n",
      "Objective value at epoch t=82 is 0.468864071065\n",
      "Objective value at epoch t=83 is 0.468862740663\n",
      "Objective value at epoch t=84 is 0.468861538366\n",
      "Objective value at epoch t=85 is 0.468860464201\n",
      "Objective value at epoch t=86 is 0.468859494264\n",
      "Objective value at epoch t=87 is 0.468858621953\n",
      "Objective value at epoch t=88 is 0.468857836037\n",
      "Objective value at epoch t=89 is 0.468857127546\n",
      "Objective value at epoch t=90 is 0.468856491386\n",
      "Objective value at epoch t=91 is 0.468855918897\n",
      "Objective value at epoch t=92 is 0.468855403208\n",
      "Objective value at epoch t=93 is 0.468854939141\n",
      "Objective value at epoch t=94 is 0.468854521596\n",
      "Objective value at epoch t=95 is 0.468854145602\n",
      "Objective value at epoch t=96 is 0.468853807216\n",
      "Objective value at epoch t=97 is 0.468853502878\n",
      "Objective value at epoch t=98 is 0.468853228698\n",
      "Objective value at epoch t=99 is 0.468852982004\n"
     ]
    }
   ],
   "source": [
    "lam = 1E-6\n",
    "stepsize = 0.1\n",
    "w, objvals_sgd = sgd(x_train, y_train, lam, stepsize)"
   ]
  },
  {
   "cell_type": "markdown",
   "metadata": {},
   "source": [
    "# 4. Compare GD with SGD\n",
    "\n",
    "Plot objective function values against epochs."
   ]
  },
  {
   "cell_type": "code",
   "execution_count": 14,
   "metadata": {},
   "outputs": [
    {
     "data": {
      "image/png": "[encoded data removed]",
      "text/plain": [
       "<Figure size 432x288 with 1 Axes>"
      ]
     },
     "metadata": {
      "needs_background": "light"
     },
     "output_type": "display_data"
    }
   ],
   "source": [
    "import matplotlib.pyplot as plt\n",
    "%matplotlib inline\n",
    "\n",
    "fig = plt.figure(figsize=(6, 4))\n",
    "\n",
    "epochs_gd = range(len(objvals_gd))\n",
    "epochs_sgd = range(len(objvals_sgd))\n",
    "\n",
    "line0, = plt.plot(epochs_gd, objvals_gd, '--b', LineWidth=4)\n",
    "line1, = plt.plot(epochs_sgd, objvals_sgd, '-r', LineWidth=2)\n",
    "plt.xlabel('Epochs', FontSize=20)\n",
    "plt.ylabel('Objective Value', FontSize=20)\n",
    "plt.xticks(FontSize=16)\n",
    "plt.yticks(FontSize=16)\n",
    "plt.legend([line0, line1], ['GD', 'SGD'], fontsize=20)\n",
    "plt.tight_layout()\n",
    "plt.show()\n",
    "fig.savefig('compare_gd_sgd.pdf', format='pdf', dpi=1200)"
   ]
  },
  {
   "cell_type": "markdown",
   "metadata": {},
   "source": [
    "# 5. Prediction"
   ]
  },
  {
   "cell_type": "code",
   "execution_count": 15,
   "metadata": {},
   "outputs": [],
   "source": [
    "# Predict class label\n",
    "# Inputs:\n",
    "#     w: d-by-1 matrix\n",
    "#     X: m-by-d matrix\n",
    "# Return:\n",
    "#     f: m-by-1 matrix, the predictions\n",
    "def predict(w, X):\n",
    "    xw = numpy.dot(X, w)\n",
    "    f = numpy.sign(xw)\n",
    "    return f"
   ]
  },
  {
   "cell_type": "code",
   "execution_count": 16,
   "metadata": {},
   "outputs": [
    {
     "name": "stdout",
     "output_type": "stream",
     "text": [
      "Training classification error is 0.215625\n"
     ]
    }
   ],
   "source": [
    "# evaluate training error\n",
    "f_train = predict(w, x_train)\n",
    "diff = numpy.abs(f_train - y_train) / 2\n",
    "error_train = numpy.mean(diff)\n",
    "print('Training classification error is ' + str(error_train))"
   ]
  },
  {
   "cell_type": "code",
   "execution_count": 17,
   "metadata": {},
   "outputs": [
    {
     "name": "stdout",
     "output_type": "stream",
     "text": [
      "Test classification error is 0.25\n"
     ]
    }
   ],
   "source": [
    "# evaluate test error\n",
    "f_test = predict(w, x_test)\n",
    "diff = numpy.abs(f_test - y_test) / 2\n",
    "error_test = numpy.mean(diff)\n",
    "print('Test classification error is ' + str(error_test))"
   ]
  },
  {
   "cell_type": "markdown",
   "metadata": {},
   "source": [
    "# 6. Mini-batch SGD (fill the code)\n",
    "\n"
   ]
  },
  {
   "cell_type": "markdown",
   "metadata": {},
   "source": [
    "## 6.1. Compute the objective $Q_I$ and its gradient using a batch of samples\n",
    "\n",
    "Define $Q_I (w) = \\frac{1}{b} \\sum_{i \\in I} \\log \\Big( 1 + \\exp \\big( - y_i x_i^T w \\big) \\Big) + \\frac{\\lambda}{2} \\| w \\|_2^2 $, where $I$ is a set containing $b$ indices randomly drawn from $\\{ 1, \\cdots , n \\}$ without replacement.\n",
    "\n",
    "The stochastic gradient at $w$ is $g_I = \\frac{\\partial Q_I }{ \\partial w} = \\frac{1}{b} \\sum_{i \\in I} \\frac{- y_i x_i }{1 + \\exp ( y_i x_i^T w)} + \\lambda w$."
   ]
  },
  {
   "cell_type": "code",
   "execution_count": 315,
   "metadata": {},
   "outputs": [],
   "source": [
    "# Calculate the objective Q_I and the gradient of Q_I\n",
    "# Inputs:\n",
    "#     w: d-by-1 matrix\n",
    "#     xi: b-by-d matrix\n",
    "#     yi: b-by-1 matrix\n",
    "#     lam: scalar, the regularization parameter\n",
    "#     b: integer, the batch size\n",
    "# Return:\n",
    "#     obj: scalar, the objective Q_i\n",
    "#     g: d-by-1 matrix, gradient of Q_i\n",
    "def mb_stochastic_objective_gradient(w, xi, yi, lam, b):\n",
    "    # Fill the function\n",
    "    # Follow the implementation of stochastic_objective_gradient\n",
    "    # Use matrix-vector multiplication; do not use FOR LOOP of vector-vector multiplications\n",
    "    \n",
    "    #SG Obj\n",
    "    d = xi.shape[0]\n",
    "    yx = yi * xi # 1-by-d matrix\n",
    "    yxw = float(numpy.dot(yx, w)) # scalar\n",
    "    \n",
    "    # calculate objective function Q_I\n",
    "    loss = numpy.log(1 + numpy.exp(-yxw)) # scalar\n",
    "    vec2 = numpy.mean(loss)\n",
    "    reg = lam / 2 * numpy.sum(w * w) # scalar\n",
    "    obj = loss + reg\n",
    "    \n",
    "    #MB-SGD gradient\n",
    "    g_loss = -yx.T / (1 + numpy.exp(yxw)) # d-by-1 matrix\n",
    "#     vec3 = numpy.mean(g_loss, axis=0).reshape(d, 1)\n",
    "    vec3 = g_loss/b\n",
    "    g = vec3 + lam * w # d-by-1 matrix\n",
    "    \n",
    "    return obj, g"
   ]
  },
  {
   "cell_type": "markdown",
   "metadata": {},
   "source": [
    "## 6.2. Implement mini-batch SGD\n",
    "\n",
    "Hints:\n",
    "1. In every epoch, randomly permute the $n$ samples (just like SGD).\n",
    "2. Each epoch has $\\frac{n}{b}$ iterations. In every iteration, use $b$ samples, and compute the gradient and objective using the ``mb_stochastic_objective_gradient`` function. In the next iteration, use the next $b$ samples, and so on.\n"
   ]
  },
  {
   "cell_type": "code",
   "execution_count": 376,
   "metadata": {},
   "outputs": [],
   "source": [
    "# Mini-Batch SGD for solving logistic regression\n",
    "# Inputs:\n",
    "#     x: n-by-d matrix\n",
    "#     y: n-by-1 matrix\n",
    "#     lam: scalar, the regularization parameter\n",
    "#     b: integer, the batch size\n",
    "#     stepsize: scalar\n",
    "#     max_epoch: integer, the maximal epochs\n",
    "#     w: d-by-1 matrix, initialization of w\n",
    "# Return:\n",
    "#     w: the solution\n",
    "#     objvals: record of each iteration's objective value\n",
    "def mb_sgd(x, y, lam, b, stepsize, max_epoch=100, w=None):\n",
    "    # Fill the function\n",
    "    # Follow the implementation of sgd\n",
    "    # Record one objective value per epoch (not per iteration!)\n",
    "    \n",
    "    n, d = x.shape\n",
    "    objvals = numpy.zeros(max_epoch) # store the objective values\n",
    "    seen = []\n",
    "    if w is None:\n",
    "        w = numpy.zeros((d, 1)) # zero initialization\n",
    "    \n",
    "    for t in range(max_epoch):\n",
    "        # randomly shuffle the samples\n",
    "        rand_indices = numpy.random.permutation(b)\n",
    "        \n",
    "        x_rand = x[rand_indices, :]\n",
    "        y_rand = y[rand_indices, :]\n",
    "        \n",
    "        objval = 0 # accumulate the objective values\n",
    "        for i in range(b):\n",
    "            xi = x_rand[i, :] # 1-by-d matrix\n",
    "            yi = float(y_rand[i, :]) # scalar\n",
    "            obj, g = mb_stochastic_objective_gradient(w, xi, yi, lam, b)\n",
    "            objval += obj\n",
    "            w -= stepsize * g\n",
    "        \n",
    "        stepsize *= 0.9 # decrease step size\n",
    "        \n",
    "        objval /= b\n",
    "        objvals[t] = objval\n",
    "        print('Objective value at epoch t=' + str(t) + ' is ' + str(objval))\n",
    "    \n",
    "    \n",
    "    return w, objvals"
   ]
  },
  {
   "cell_type": "markdown",
   "metadata": {},
   "source": [
    "## 6.3. Run MB-SGD"
   ]
  },
  {
   "cell_type": "code",
   "execution_count": 377,
   "metadata": {},
   "outputs": [
    {
     "name": "stdout",
     "output_type": "stream",
     "text": [
      "Objective value at epoch t=0 is 0.69928018221\n",
      "Objective value at epoch t=1 is 0.665145637767\n",
      "Objective value at epoch t=2 is 0.637834848855\n",
      "Objective value at epoch t=3 is 0.614820298164\n",
      "Objective value at epoch t=4 is 0.595783487321\n",
      "Objective value at epoch t=5 is 0.57966008334\n",
      "Objective value at epoch t=6 is 0.565942791019\n",
      "Objective value at epoch t=7 is 0.554189798268\n",
      "Objective value at epoch t=8 is 0.544020863879\n",
      "Objective value at epoch t=9 is 0.535300432529\n",
      "Objective value at epoch t=10 is 0.527663521388\n",
      "Objective value at epoch t=11 is 0.521021840023\n",
      "Objective value at epoch t=12 is 0.515197807801\n",
      "Objective value at epoch t=13 is 0.510064135651\n",
      "Objective value at epoch t=14 is 0.505542693817\n",
      "Objective value at epoch t=15 is 0.501546146912\n",
      "Objective value at epoch t=16 is 0.49801466398\n",
      "Objective value at epoch t=17 is 0.494881397901\n",
      "Objective value at epoch t=18 is 0.492102747546\n",
      "Objective value at epoch t=19 is 0.489632128929\n",
      "Objective value at epoch t=20 is 0.487428913127\n",
      "Objective value at epoch t=21 is 0.485468785803\n",
      "Objective value at epoch t=22 is 0.483717023091\n",
      "Objective value at epoch t=23 is 0.482154069742\n",
      "Objective value at epoch t=24 is 0.480756534961\n",
      "Objective value at epoch t=25 is 0.479506617857\n",
      "Objective value at epoch t=26 is 0.478387364122\n",
      "Objective value at epoch t=27 is 0.477385587113\n",
      "Objective value at epoch t=28 is 0.476487852337\n",
      "Objective value at epoch t=29 is 0.475683688847\n",
      "Objective value at epoch t=30 is 0.474962182283\n",
      "Objective value at epoch t=31 is 0.474315068374\n",
      "Objective value at epoch t=32 is 0.473734496902\n",
      "Objective value at epoch t=33 is 0.473213271637\n",
      "Objective value at epoch t=34 is 0.472745300187\n",
      "Objective value at epoch t=35 is 0.472324945655\n",
      "Objective value at epoch t=36 is 0.471947471499\n",
      "Objective value at epoch t=37 is 0.471608324703\n",
      "Objective value at epoch t=38 is 0.471303505415\n",
      "Objective value at epoch t=39 is 0.47102955381\n",
      "Objective value at epoch t=40 is 0.470783334146\n",
      "Objective value at epoch t=41 is 0.470561938316\n",
      "Objective value at epoch t=42 is 0.470362924253\n",
      "Objective value at epoch t=43 is 0.47018398404\n",
      "Objective value at epoch t=44 is 0.470023036428\n",
      "Objective value at epoch t=45 is 0.469878320215\n",
      "Objective value at epoch t=46 is 0.469748150054\n",
      "Objective value at epoch t=47 is 0.469631060234\n",
      "Objective value at epoch t=48 is 0.469525742314\n",
      "Objective value at epoch t=49 is 0.469431005487\n",
      "Objective value at epoch t=50 is 0.469345776529\n",
      "Objective value at epoch t=51 is 0.469269101641\n",
      "Objective value at epoch t=52 is 0.469200115064\n",
      "Objective value at epoch t=53 is 0.469138047115\n",
      "Objective value at epoch t=54 is 0.469082203526\n",
      "Objective value at epoch t=55 is 0.469031956835\n",
      "Objective value at epoch t=56 is 0.468986746417\n",
      "Objective value at epoch t=57 is 0.468946065087\n",
      "Objective value at epoch t=58 is 0.468909458989\n",
      "Objective value at epoch t=59 is 0.468876518476\n",
      "Objective value at epoch t=60 is 0.46884687644\n",
      "Objective value at epoch t=61 is 0.468820202428\n",
      "Objective value at epoch t=62 is 0.468796199012\n",
      "Objective value at epoch t=63 is 0.468774598275\n",
      "Objective value at epoch t=64 is 0.46875515939\n",
      "Objective value at epoch t=65 is 0.468737665805\n",
      "Objective value at epoch t=66 is 0.468721923073\n",
      "Objective value at epoch t=67 is 0.468707755542\n",
      "Objective value at epoch t=68 is 0.468695005667\n",
      "Objective value at epoch t=69 is 0.468683531366\n",
      "Objective value at epoch t=70 is 0.468673205116\n",
      "Objective value at epoch t=71 is 0.468663911924\n",
      "Objective value at epoch t=72 is 0.468655548359\n",
      "Objective value at epoch t=73 is 0.468648021538\n",
      "Objective value at epoch t=74 is 0.46864124759\n",
      "Objective value at epoch t=75 is 0.468635151229\n",
      "Objective value at epoch t=76 is 0.468629664652\n",
      "Objective value at epoch t=77 is 0.468624726873\n",
      "Objective value at epoch t=78 is 0.468620282965\n",
      "Objective value at epoch t=79 is 0.468616283523\n",
      "Objective value at epoch t=80 is 0.468612684103\n",
      "Objective value at epoch t=81 is 0.468609444668\n",
      "Objective value at epoch t=82 is 0.468606529228\n",
      "Objective value at epoch t=83 is 0.46860390536\n",
      "Objective value at epoch t=84 is 0.46860154391\n",
      "Objective value at epoch t=85 is 0.468599418633\n",
      "Objective value at epoch t=86 is 0.468597505896\n",
      "Objective value at epoch t=87 is 0.468595784454\n",
      "Objective value at epoch t=88 is 0.468594235164\n",
      "Objective value at epoch t=89 is 0.468592840815\n",
      "Objective value at epoch t=90 is 0.468591585908\n",
      "Objective value at epoch t=91 is 0.468590456499\n",
      "Objective value at epoch t=92 is 0.468589440036\n",
      "Objective value at epoch t=93 is 0.468588525223\n",
      "Objective value at epoch t=94 is 0.468587701894\n",
      "Objective value at epoch t=95 is 0.468586960902\n",
      "Objective value at epoch t=96 is 0.468586294012\n",
      "Objective value at epoch t=97 is 0.468585693812\n",
      "Objective value at epoch t=98 is 0.468585153634\n",
      "Objective value at epoch t=99 is 0.468584667474\n"
     ]
    }
   ],
   "source": [
    "# MB-SGD with batch size b=8\n",
    "lam = 1E-6 # do not change\n",
    "b = 8 # do not change\n",
    "stepsize = 0.141 # you must tune this parameter\n",
    "\n",
    "w, objvals_mbsgd8 = mb_sgd(x_train, y_train, lam, b, stepsize)"
   ]
  },
  {
   "cell_type": "code",
   "execution_count": 378,
   "metadata": {
    "scrolled": true
   },
   "outputs": [
    {
     "name": "stdout",
     "output_type": "stream",
     "text": [
      "Objective value at epoch t=0 is 0.665937310174\n",
      "Objective value at epoch t=1 is 0.611047129655\n",
      "Objective value at epoch t=2 is 0.577238269242\n",
      "Objective value at epoch t=3 is 0.555066120573\n",
      "Objective value at epoch t=4 is 0.538985763046\n",
      "Objective value at epoch t=5 is 0.526865748987\n",
      "Objective value at epoch t=6 is 0.517444863457\n",
      "Objective value at epoch t=7 is 0.510129538658\n",
      "Objective value at epoch t=8 is 0.504179843227\n",
      "Objective value at epoch t=9 is 0.499258278104\n",
      "Objective value at epoch t=10 is 0.495174697492\n",
      "Objective value at epoch t=11 is 0.491730703297\n",
      "Objective value at epoch t=12 is 0.488805697774\n",
      "Objective value at epoch t=13 is 0.486304652018\n",
      "Objective value at epoch t=14 is 0.484145400537\n",
      "Objective value at epoch t=15 is 0.482299337738\n",
      "Objective value at epoch t=16 is 0.480671200168\n",
      "Objective value at epoch t=17 is 0.479275527281\n",
      "Objective value at epoch t=18 is 0.478043689374\n",
      "Objective value at epoch t=19 is 0.476957126238\n",
      "Objective value at epoch t=20 is 0.476004766853\n",
      "Objective value at epoch t=21 is 0.47516130493\n",
      "Objective value at epoch t=22 is 0.474417704606\n",
      "Objective value at epoch t=23 is 0.473754631366\n",
      "Objective value at epoch t=24 is 0.473169813625\n",
      "Objective value at epoch t=25 is 0.472648623712\n",
      "Objective value at epoch t=26 is 0.472185192272\n",
      "Objective value at epoch t=27 is 0.471771642454\n",
      "Objective value at epoch t=28 is 0.471402465362\n",
      "Objective value at epoch t=29 is 0.471072602842\n",
      "Objective value at epoch t=30 is 0.470777622555\n",
      "Objective value at epoch t=31 is 0.470514792623\n",
      "Objective value at epoch t=32 is 0.470279308731\n",
      "Objective value at epoch t=33 is 0.470067884341\n",
      "Objective value at epoch t=34 is 0.469878977156\n",
      "Objective value at epoch t=35 is 0.469709519787\n",
      "Objective value at epoch t=36 is 0.469557583835\n",
      "Objective value at epoch t=37 is 0.469421248837\n",
      "Objective value at epoch t=38 is 0.469298834556\n",
      "Objective value at epoch t=39 is 0.469188998311\n",
      "Objective value at epoch t=40 is 0.469090402646\n",
      "Objective value at epoch t=41 is 0.469001895631\n",
      "Objective value at epoch t=42 is 0.468922355374\n",
      "Objective value at epoch t=43 is 0.468850884524\n",
      "Objective value at epoch t=44 is 0.468786642887\n",
      "Objective value at epoch t=45 is 0.468728929493\n",
      "Objective value at epoch t=46 is 0.46867704995\n",
      "Objective value at epoch t=47 is 0.468630390858\n",
      "Objective value at epoch t=48 is 0.468588465853\n",
      "Objective value at epoch t=49 is 0.468550759062\n",
      "Objective value at epoch t=50 is 0.468516857429\n",
      "Objective value at epoch t=51 is 0.468486357115\n",
      "Objective value at epoch t=52 is 0.468458923884\n",
      "Objective value at epoch t=53 is 0.468434260925\n",
      "Objective value at epoch t=54 is 0.468412069605\n",
      "Objective value at epoch t=55 is 0.468392109567\n",
      "Objective value at epoch t=56 is 0.468374151303\n",
      "Objective value at epoch t=57 is 0.46835799382\n",
      "Objective value at epoch t=58 is 0.46834345845\n",
      "Objective value at epoch t=59 is 0.468330383391\n",
      "Objective value at epoch t=60 is 0.468318616053\n",
      "Objective value at epoch t=61 is 0.468308030566\n",
      "Objective value at epoch t=62 is 0.4682985036\n",
      "Objective value at epoch t=63 is 0.468289932533\n",
      "Objective value at epoch t=64 is 0.468282219801\n",
      "Objective value at epoch t=65 is 0.468275280093\n",
      "Objective value at epoch t=66 is 0.468269033734\n",
      "Objective value at epoch t=67 is 0.468263413775\n",
      "Objective value at epoch t=68 is 0.46825835637\n",
      "Objective value at epoch t=69 is 0.46825380506\n",
      "Objective value at epoch t=70 is 0.468249709293\n",
      "Objective value at epoch t=71 is 0.468246023584\n",
      "Objective value at epoch t=72 is 0.468242706574\n",
      "Objective value at epoch t=73 is 0.468239721277\n",
      "Objective value at epoch t=74 is 0.468237034656\n",
      "Objective value at epoch t=75 is 0.468234617131\n",
      "Objective value at epoch t=76 is 0.46823244154\n",
      "Objective value at epoch t=77 is 0.468230483552\n",
      "Objective value at epoch t=78 is 0.468228721292\n",
      "Objective value at epoch t=79 is 0.468227135385\n",
      "Objective value at epoch t=80 is 0.468225708168\n",
      "Objective value at epoch t=81 is 0.468224423579\n",
      "Objective value at epoch t=82 is 0.468223267689\n",
      "Objective value at epoch t=83 is 0.468222227201\n",
      "Objective value at epoch t=84 is 0.468221290867\n",
      "Objective value at epoch t=85 is 0.468220448157\n",
      "Objective value at epoch t=86 is 0.468219689766\n",
      "Objective value at epoch t=87 is 0.468219007288\n",
      "Objective value at epoch t=88 is 0.468218393008\n",
      "Objective value at epoch t=89 is 0.468217840069\n",
      "Objective value at epoch t=90 is 0.468217342545\n",
      "Objective value at epoch t=91 is 0.468216894787\n",
      "Objective value at epoch t=92 is 0.468216491743\n",
      "Objective value at epoch t=93 is 0.468216129041\n",
      "Objective value at epoch t=94 is 0.468215802617\n",
      "Objective value at epoch t=95 is 0.468215508831\n",
      "Objective value at epoch t=96 is 0.468215244404\n",
      "Objective value at epoch t=97 is 0.468215006448\n",
      "Objective value at epoch t=98 is 0.468214792275\n",
      "Objective value at epoch t=99 is 0.468214599522\n"
     ]
    }
   ],
   "source": [
    "# MB-SGD with batch size b=64\n",
    "lam = 1E-6 # do not change\n",
    "b = 64 # do not change\n",
    "stepsize = 0.48 # you must tune this parameter\n",
    "\n",
    "w, objvals_mbsgd64 = mb_sgd(x_train, y_train, lam, b, stepsize)"
   ]
  },
  {
   "cell_type": "markdown",
   "metadata": {},
   "source": [
    "# 7. Plot and compare GD, SGD, and MB-SGD"
   ]
  },
  {
   "cell_type": "markdown",
   "metadata": {},
   "source": [
    "You are required to compare the following algorithms:\n",
    "\n",
    "- Gradient descent (GD)\n",
    "\n",
    "- SGD\n",
    "\n",
    "- MB-SGD with b=8\n",
    "\n",
    "- MB-SGD with b=64\n",
    "\n",
    "Follow the code in Section 4 to plot ```objective function value``` against ```epochs```. There should be four curves in the plot; each curve corresponds to one algorithm."
   ]
  },
  {
   "cell_type": "markdown",
   "metadata": {},
   "source": [
    "Hint: Logistic regression with $\\ell_2$-norm regularization is a strongly convex optimization problem. All the algorithms will converge to the same solution. **In the end, the ``objective function value`` of the 4 algorithms will be the same. If not the same, your implementation must be wrong. Do NOT submit wrong code and wrong result!**"
   ]
  },
  {
   "cell_type": "code",
   "execution_count": 379,
   "metadata": {},
   "outputs": [
    {
     "data": {
      "image/png": "[encoded data removed]",
      "text/plain": [
       "<Figure size 576x432 with 1 Axes>"
      ]
     },
     "metadata": {
      "needs_background": "light"
     },
     "output_type": "display_data"
    }
   ],
   "source": [
    "# plot the 4 curves:\n",
    "import matplotlib.pyplot as plt\n",
    "%matplotlib inline\n",
    "\n",
    "fig = plt.figure(figsize=(8, 6))\n",
    "\n",
    "epochs_gd = range(len(objvals_gd))\n",
    "epochs_sgd = range(len(objvals_sgd))\n",
    "epochs_mbsgd8 = range(len(objvals_mbsgd8))\n",
    "epochs_mbsgd64 = range(len(objvals_mbsgd64))\n",
    "\n",
    "line0, = plt.plot(epochs_gd, objvals_gd, '--b', LineWidth=4)\n",
    "line1, = plt.plot(epochs_sgd, objvals_sgd, '-r', LineWidth=2)\n",
    "line2 = plt.plot(epochs_mbsgd8, objvals_mbsgd8, '-o', LineWidth=2)\n",
    "line3 = plt.plot(epochs_mbsgd64, objvals_mbsgd64, '--g', LineWidth=2)\n",
    "plt.xlabel('Epochs', FontSize=20)\n",
    "plt.ylabel('Objective Value', FontSize=20)\n",
    "plt.xticks(FontSize=16)\n",
    "plt.yticks(FontSize=16)\n",
    "plt.legend(['GD', 'SGD', 'SGD_8', 'SGD_64'], fontsize=15)\n",
    "plt.tight_layout()\n",
    "plt.show()\n",
    "fig.savefig('compare_gd_sgd.pdf', format='pdf', dpi=1200)"
   ]
  },
  {
   "cell_type": "markdown",
   "metadata": {},
   "source": []
  },
  {
   "cell_type": "code",
   "execution_count": null,
   "metadata": {},
   "outputs": [],
   "source": []
  },
  {
   "cell_type": "code",
   "execution_count": null,
   "metadata": {},
   "outputs": [],
   "source": []
  },
  {
   "cell_type": "code",
   "execution_count": null,
   "metadata": {},
   "outputs": [],
   "source": []
  }
 ],
 "metadata": {
  "kernelspec": {
   "display_name": "Python 3",
   "language": "python",
   "name": "python3"
  },
  "language_info": {
   "codemirror_mode": {
    "name": "ipython",
    "version": 2
   },
   "file_extension": ".py",
   "mimetype": "text/x-python",
   "name": "python",
   "nbconvert_exporter": "python",
   "pygments_lexer": "ipython2",
   "version": "2.7.12+"
  }
 },
 "nbformat": 4,
 "nbformat_minor": 2
}
